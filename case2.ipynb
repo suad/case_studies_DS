{
 "cells": [
  {
   "cell_type": "code",
   "execution_count": 194,
   "metadata": {},
   "outputs": [],
   "source": [
    "from sklearn import tree\n",
    "import pandas as pd\n",
    "from sklearn.metrics import classification_report, confusion_matrix ,accuracy_score\n",
    "import numpy as np\n"
   ]
  },
  {
   "cell_type": "markdown",
   "metadata": {},
   "source": [
    "### 1) Write a script to extract a random sample of 1000 rows from goldstandard dataset and save it to a file (i.e. gold_sample.csv)"
   ]
  },
  {
   "cell_type": "code",
   "execution_count": 188,
   "metadata": {},
   "outputs": [
    {
     "name": "stdout",
     "output_type": "stream",
     "text": [
      "4999\n",
      "1000\n"
     ]
    }
   ],
   "source": [
    "gold_df= pd.read_csv('assignment2_data/gold.csv')\n",
    "print(gold_df.index.size)\n",
    "sample = gold_df.sample(1000)\n",
    "sample.to_csv('assignment2_data/gold_sample.csv',index=False)\n",
    "print(sample.index.size)"
   ]
  },
  {
   "cell_type": "code",
   "execution_count": 580,
   "metadata": {
    "scrolled": true
   },
   "outputs": [],
   "source": [
    "sample= pd.read_csv('../../../../Code/Assignment2/data/gold_sample.csv')\n"
   ]
  },
  {
   "cell_type": "code",
   "execution_count": 581,
   "metadata": {},
   "outputs": [
    {
     "data": {
      "image/png": "[encoded data removed]",
      "text/plain": [
       "<Figure size 432x288 with 1 Axes>"
      ]
     },
     "metadata": {
      "needs_background": "light"
     },
     "output_type": "display_data"
    }
   ],
   "source": [
    "sample.id.groupby(sample['class']).nunique().hist();\n"
   ]
  },
  {
   "cell_type": "code",
   "execution_count": 583,
   "metadata": {},
   "outputs": [
    {
     "data": {
      "text/plain": [
       "([array([504.,   0.,   0.,   0.]), array([  0.,   0.,   0., 496.])],\n",
       " array([0.  , 0.25, 0.5 , 0.75, 1.  ]),\n",
       " <a list of 2 Lists of Patches objects>)"
      ]
     },
     "execution_count": 583,
     "metadata": {},
     "output_type": "execute_result"
    },
    {
     "data": {
      "image/png": "[encoded data removed]",
      "text/plain": [
       "<Figure size 432x288 with 1 Axes>"
      ]
     },
     "metadata": {
      "needs_background": "light"
     },
     "output_type": "display_data"
    }
   ],
   "source": [
    "import matplotlib.pyplot as plt\n",
    "labels = sample['class'].unique()\n",
    "plt.hist([sample.loc[sample['class'] == x, 'class'] for x in labels], label=labels,bins=4)"
   ]
  },
  {
   "cell_type": "code",
   "execution_count": 582,
   "metadata": {},
   "outputs": [
    {
     "data": {
      "text/plain": [
       "count     1000\n",
       "unique       2\n",
       "top        pos\n",
       "freq       504\n",
       "Name: class, dtype: object"
      ]
     },
     "execution_count": 582,
     "metadata": {},
     "output_type": "execute_result"
    }
   ],
   "source": [
    "sample['class'].describe()"
   ]
  },
  {
   "cell_type": "markdown",
   "metadata": {},
   "source": [
    "### 2) Write a script to build a classification model using Decision Treesthat take as input the file produced in task 1 (i.e. gold_sample.csv).The script should train a model, test its performance using testdataset (i.e. test.csv) and save the resulting model F-score, accuracy and prediction probabilities in a text file (i.e. train_gold.txt)"
   ]
  },
  {
   "cell_type": "code",
   "execution_count": 190,
   "metadata": {},
   "outputs": [],
   "source": [
    "X = sample.iloc[:,:-1]\n",
    "Y = sample['class']"
   ]
  },
  {
   "cell_type": "code",
   "execution_count": 191,
   "metadata": {},
   "outputs": [],
   "source": [
    "clf = tree.DecisionTreeClassifier()\n",
    "clf = clf.fit(X, Y)"
   ]
  },
  {
   "cell_type": "code",
   "execution_count": 192,
   "metadata": {},
   "outputs": [
    {
     "data": {
      "text/plain": [
       "5428"
      ]
     },
     "execution_count": 192,
     "metadata": {},
     "output_type": "execute_result"
    }
   ],
   "source": [
    "test = pd.read_csv('assignment2_data/test.csv')\n",
    "testX = test.iloc[:,:-1]\n",
    "testY = test['class']\n",
    "test.index.size"
   ]
  },
  {
   "cell_type": "code",
   "execution_count": null,
   "metadata": {},
   "outputs": [],
   "source": []
  },
  {
   "cell_type": "code",
   "execution_count": 200,
   "metadata": {},
   "outputs": [
    {
     "name": "stdout",
     "output_type": "stream",
     "text": [
      "accuracy  0.9994473102431835\n",
      "[[0. 1.]\n",
      " [1. 0.]\n",
      " [1. 0.]\n",
      " ...\n",
      " [1. 0.]\n",
      " [0. 1.]\n",
      " [1. 0.]]\n"
     ]
    }
   ],
   "source": [
    "test_predict = clf.predict(testX)\n",
    "matrix = confusion_matrix(testY, test_predict)\n",
    "reprot = classification_report(testY, test_predict)\n",
    "# Compute accuracy \n",
    "acc = accuracy_score(testY, test_predict)\n",
    "print(\"accuracy \",acc)\n",
    "predict_proba = clf.predict_proba(testX)\n",
    "print(predict_proba)\n",
    "with open('assignment2_data/train_gold.txt', 'w') as f:\n",
    "    f.write(\"Confusion Matrix\\n\")\n",
    "    f.write(\"%s\\n\" % matrix)\n",
    "    f.write(\"Accuracy\\n\")\n",
    "    f.write(\"%s\\n\" % acc)\n",
    "    f.write(\"classification_report\\n\")\n",
    "    f.write(\"%s\\n\" % reprot)\n",
    "    f.write(\"prediction probabilities\\n\")\n",
    "    for item in predict_proba:\n",
    "        f.write(\"%s\\n\" % item)\n",
    "    "
   ]
  },
  {
   "cell_type": "markdown",
   "metadata": {},
   "source": [
    "## Part 2 - model training using crowdsourced data with majority voting"
   ]
  },
  {
   "cell_type": "markdown",
   "metadata": {},
   "source": [
    "### 4)Extract rows from crowdsourced dataset that correspond to the sentence ids of step 1 and save it to file (i.e. mturk_sample.csv)"
   ]
  },
  {
   "cell_type": "code",
   "execution_count": 393,
   "metadata": {},
   "outputs": [
    {
     "data": {
      "text/html": [
       "<div>\n",
       "<style scoped>\n",
       "    .dataframe tbody tr th:only-of-type {\n",
       "        vertical-align: middle;\n",
       "    }\n",
       "\n",
       "    .dataframe tbody tr th {\n",
       "        vertical-align: top;\n",
       "    }\n",
       "\n",
       "    .dataframe thead th {\n",
       "        text-align: right;\n",
       "    }\n",
       "</style>\n",
       "<table border=\"1\" class=\"dataframe\">\n",
       "  <thead>\n",
       "    <tr style=\"text-align: right;\">\n",
       "      <th></th>\n",
       "      <th>id</th>\n",
       "      <th>annotator</th>\n",
       "      <th>TOPIC0</th>\n",
       "      <th>TOPIC1</th>\n",
       "      <th>TOPIC2</th>\n",
       "      <th>TOPIC3</th>\n",
       "      <th>TOPIC4</th>\n",
       "      <th>TOPIC5</th>\n",
       "      <th>TOPIC6</th>\n",
       "      <th>TOPIC7</th>\n",
       "      <th>...</th>\n",
       "      <th>TOPIC1191</th>\n",
       "      <th>TOPIC1192</th>\n",
       "      <th>TOPIC1193</th>\n",
       "      <th>TOPIC1194</th>\n",
       "      <th>TOPIC1195</th>\n",
       "      <th>TOPIC1196</th>\n",
       "      <th>TOPIC1197</th>\n",
       "      <th>TOPIC1198</th>\n",
       "      <th>TOPIC1199</th>\n",
       "      <th>class</th>\n",
       "    </tr>\n",
       "  </thead>\n",
       "  <tbody>\n",
       "    <tr>\n",
       "      <th>0</th>\n",
       "      <td>4518</td>\n",
       "      <td>A2HD5XMM48KKJW</td>\n",
       "      <td>0.047554</td>\n",
       "      <td>-0.000308</td>\n",
       "      <td>0.023648</td>\n",
       "      <td>0.084735</td>\n",
       "      <td>0.000874</td>\n",
       "      <td>0.063103</td>\n",
       "      <td>-0.005063</td>\n",
       "      <td>-0.009235</td>\n",
       "      <td>...</td>\n",
       "      <td>-0.000948</td>\n",
       "      <td>0.001994</td>\n",
       "      <td>-0.020170</td>\n",
       "      <td>-0.005735</td>\n",
       "      <td>0.002075</td>\n",
       "      <td>-0.008209</td>\n",
       "      <td>0.009179</td>\n",
       "      <td>-0.000570</td>\n",
       "      <td>0.005638</td>\n",
       "      <td>pos</td>\n",
       "    </tr>\n",
       "    <tr>\n",
       "      <th>1</th>\n",
       "      <td>10415</td>\n",
       "      <td>A2HD5XMM48KKJW</td>\n",
       "      <td>0.057894</td>\n",
       "      <td>-0.002123</td>\n",
       "      <td>0.041045</td>\n",
       "      <td>0.059079</td>\n",
       "      <td>0.003419</td>\n",
       "      <td>0.026197</td>\n",
       "      <td>0.008809</td>\n",
       "      <td>-0.001602</td>\n",
       "      <td>...</td>\n",
       "      <td>0.015433</td>\n",
       "      <td>0.001089</td>\n",
       "      <td>-0.024572</td>\n",
       "      <td>0.094193</td>\n",
       "      <td>-0.088402</td>\n",
       "      <td>0.015108</td>\n",
       "      <td>0.007066</td>\n",
       "      <td>-0.042577</td>\n",
       "      <td>-0.058843</td>\n",
       "      <td>neg</td>\n",
       "    </tr>\n",
       "    <tr>\n",
       "      <th>2</th>\n",
       "      <td>7098</td>\n",
       "      <td>A2HD5XMM48KKJW</td>\n",
       "      <td>0.226327</td>\n",
       "      <td>0.041921</td>\n",
       "      <td>0.124921</td>\n",
       "      <td>0.291891</td>\n",
       "      <td>-0.030388</td>\n",
       "      <td>0.082626</td>\n",
       "      <td>-0.037958</td>\n",
       "      <td>-0.291264</td>\n",
       "      <td>...</td>\n",
       "      <td>0.000163</td>\n",
       "      <td>0.047404</td>\n",
       "      <td>-0.025245</td>\n",
       "      <td>-0.004108</td>\n",
       "      <td>0.027324</td>\n",
       "      <td>-0.038161</td>\n",
       "      <td>-0.021096</td>\n",
       "      <td>-0.018557</td>\n",
       "      <td>0.053247</td>\n",
       "      <td>pos</td>\n",
       "    </tr>\n",
       "    <tr>\n",
       "      <th>3</th>\n",
       "      <td>4396</td>\n",
       "      <td>A2HD5XMM48KKJW</td>\n",
       "      <td>0.011175</td>\n",
       "      <td>-0.001934</td>\n",
       "      <td>0.005822</td>\n",
       "      <td>0.014736</td>\n",
       "      <td>-0.001519</td>\n",
       "      <td>0.000643</td>\n",
       "      <td>0.010770</td>\n",
       "      <td>-0.004277</td>\n",
       "      <td>...</td>\n",
       "      <td>0.025773</td>\n",
       "      <td>0.011295</td>\n",
       "      <td>0.048014</td>\n",
       "      <td>-0.022640</td>\n",
       "      <td>-0.048314</td>\n",
       "      <td>0.035679</td>\n",
       "      <td>0.012249</td>\n",
       "      <td>-0.026116</td>\n",
       "      <td>-0.004993</td>\n",
       "      <td>neg</td>\n",
       "    </tr>\n",
       "    <tr>\n",
       "      <th>4</th>\n",
       "      <td>2812</td>\n",
       "      <td>A2HD5XMM48KKJW</td>\n",
       "      <td>0.023912</td>\n",
       "      <td>0.002982</td>\n",
       "      <td>0.008951</td>\n",
       "      <td>0.038452</td>\n",
       "      <td>0.015734</td>\n",
       "      <td>0.018588</td>\n",
       "      <td>0.004741</td>\n",
       "      <td>0.005001</td>\n",
       "      <td>...</td>\n",
       "      <td>0.057021</td>\n",
       "      <td>0.079538</td>\n",
       "      <td>-0.105252</td>\n",
       "      <td>0.011196</td>\n",
       "      <td>-0.060068</td>\n",
       "      <td>-0.029165</td>\n",
       "      <td>0.006014</td>\n",
       "      <td>-0.042851</td>\n",
       "      <td>-0.002392</td>\n",
       "      <td>pos</td>\n",
       "    </tr>\n",
       "  </tbody>\n",
       "</table>\n",
       "<p>5 rows × 1203 columns</p>\n",
       "</div>"
      ],
      "text/plain": [
       "      id       annotator    TOPIC0    TOPIC1    TOPIC2    TOPIC3    TOPIC4  \\\n",
       "0   4518  A2HD5XMM48KKJW  0.047554 -0.000308  0.023648  0.084735  0.000874   \n",
       "1  10415  A2HD5XMM48KKJW  0.057894 -0.002123  0.041045  0.059079  0.003419   \n",
       "2   7098  A2HD5XMM48KKJW  0.226327  0.041921  0.124921  0.291891 -0.030388   \n",
       "3   4396  A2HD5XMM48KKJW  0.011175 -0.001934  0.005822  0.014736 -0.001519   \n",
       "4   2812  A2HD5XMM48KKJW  0.023912  0.002982  0.008951  0.038452  0.015734   \n",
       "\n",
       "     TOPIC5    TOPIC6    TOPIC7  ...    TOPIC1191  TOPIC1192  TOPIC1193  \\\n",
       "0  0.063103 -0.005063 -0.009235  ...    -0.000948   0.001994  -0.020170   \n",
       "1  0.026197  0.008809 -0.001602  ...     0.015433   0.001089  -0.024572   \n",
       "2  0.082626 -0.037958 -0.291264  ...     0.000163   0.047404  -0.025245   \n",
       "3  0.000643  0.010770 -0.004277  ...     0.025773   0.011295   0.048014   \n",
       "4  0.018588  0.004741  0.005001  ...     0.057021   0.079538  -0.105252   \n",
       "\n",
       "   TOPIC1194  TOPIC1195  TOPIC1196  TOPIC1197  TOPIC1198  TOPIC1199  class  \n",
       "0  -0.005735   0.002075  -0.008209   0.009179  -0.000570   0.005638    pos  \n",
       "1   0.094193  -0.088402   0.015108   0.007066  -0.042577  -0.058843    neg  \n",
       "2  -0.004108   0.027324  -0.038161  -0.021096  -0.018557   0.053247    pos  \n",
       "3  -0.022640  -0.048314   0.035679   0.012249  -0.026116  -0.004993    neg  \n",
       "4   0.011196  -0.060068  -0.029165   0.006014  -0.042851  -0.002392    pos  \n",
       "\n",
       "[5 rows x 1203 columns]"
      ]
     },
     "execution_count": 393,
     "metadata": {},
     "output_type": "execute_result"
    }
   ],
   "source": [
    "mturk= pd.read_csv('assignment2_data/mturk.csv')\n",
    "mturk.head()"
   ]
  },
  {
   "cell_type": "code",
   "execution_count": 394,
   "metadata": {},
   "outputs": [],
   "source": [
    "sample_ids = list(sample.id.unique())"
   ]
  },
  {
   "cell_type": "code",
   "execution_count": 584,
   "metadata": {},
   "outputs": [],
   "source": [
    "#mturk_sample= pd.read_csv('../../../../Code/Assignment2/data/mturk_sample.csv')\n",
    "\n",
    "mturk_sample = mturk[mturk.id.isin(sample_ids)]"
   ]
  },
  {
   "cell_type": "code",
   "execution_count": 586,
   "metadata": {},
   "outputs": [
    {
     "data": {
      "text/plain": [
       "([array([2530.,    0.,    0.,    0.]), array([   0.,    0.,    0., 3007.])],\n",
       " array([0.  , 0.25, 0.5 , 0.75, 1.  ]),\n",
       " <a list of 2 Lists of Patches objects>)"
      ]
     },
     "execution_count": 586,
     "metadata": {},
     "output_type": "execute_result"
    },
    {
     "data": {
      "image/png": "[encoded data removed]",
      "text/plain": [
       "<Figure size 432x288 with 1 Axes>"
      ]
     },
     "metadata": {
      "needs_background": "light"
     },
     "output_type": "display_data"
    }
   ],
   "source": [
    "labels = mturk_sample['class'].unique()\n",
    "plt.hist([mturk_sample.loc[mturk_sample['class'] == x, 'class'] for x in labels], label=labels,bins=4)"
   ]
  },
  {
   "cell_type": "code",
   "execution_count": 587,
   "metadata": {},
   "outputs": [
    {
     "data": {
      "text/plain": [
       "count     5537\n",
       "unique       2\n",
       "top        pos\n",
       "freq      3007\n",
       "Name: class, dtype: object"
      ]
     },
     "execution_count": 587,
     "metadata": {},
     "output_type": "execute_result"
    }
   ],
   "source": [
    "mturk_sample['class'].describe()"
   ]
  },
  {
   "cell_type": "code",
   "execution_count": 588,
   "metadata": {},
   "outputs": [
    {
     "data": {
      "text/plain": [
       "183"
      ]
     },
     "execution_count": 588,
     "metadata": {},
     "output_type": "execute_result"
    }
   ],
   "source": [
    "len(mturk_sample['annotator'].unique())"
   ]
  },
  {
   "cell_type": "code",
   "execution_count": 589,
   "metadata": {},
   "outputs": [
    {
     "data": {
      "text/plain": [
       "547"
      ]
     },
     "execution_count": 589,
     "metadata": {},
     "output_type": "execute_result"
    }
   ],
   "source": [
    "mturk_sample[mturk_sample['annotator'].str.startswith('FAKE')].index.size"
   ]
  },
  {
   "cell_type": "code",
   "execution_count": 206,
   "metadata": {},
   "outputs": [],
   "source": [
    "mturk_sample.to_csv('assignment2_data/mturk_sample.csv',index=False)"
   ]
  },
  {
   "cell_type": "markdown",
   "metadata": {},
   "source": [
    "### 5) Write a script to build a classification model using Decision Trees \n",
    "that take as input the file produced in task 4 (i.e. mturk_sample.csv). \n",
    "Aggregate the labels provided by workers using majority vote that assigns \n",
    "a point mass to the label with the highest consensus among a set of judgments. \n",
    "The script should aggregate labels, train a model, \n",
    "test its performance using test dataset (i.e. test.csv) \n",
    "and save the resulting model F-score, accuracy \n",
    "and prediction probabilities in a text file (i.e. train_mv.txt).\n"
   ]
  },
  {
   "cell_type": "code",
   "execution_count": 438,
   "metadata": {},
   "outputs": [],
   "source": [
    "majority_df = pd.DataFrame()\n",
    "for i in sample_ids:\n",
    "    \n",
    "    rows= mturk_sample[mturk_sample.id==i]\n",
    "    votes = Counter(rows['class']) \n",
    "    \n",
    "    temp= pd.DataFrame(rows[:1]) ## save to get features\n",
    "    \n",
    "    temp['class'] =votes['pos'] >= votes['neg'] ## change class based on majority vote, if equal then pos\n",
    "    majority_df= majority_df.append(temp)\n",
    "    #majority_vote.append((i,temp))\n",
    "    \n",
    "majority_df.drop(columns=\"annotator\",inplace=True)\n",
    "majority_df['class']=majority_df['class'].apply(lambda x:\"pos\" if x==1 else \"neg\")"
   ]
  },
  {
   "cell_type": "code",
   "execution_count": 439,
   "metadata": {},
   "outputs": [
    {
     "data": {
      "text/html": [
       "<div>\n",
       "<style scoped>\n",
       "    .dataframe tbody tr th:only-of-type {\n",
       "        vertical-align: middle;\n",
       "    }\n",
       "\n",
       "    .dataframe tbody tr th {\n",
       "        vertical-align: top;\n",
       "    }\n",
       "\n",
       "    .dataframe thead th {\n",
       "        text-align: right;\n",
       "    }\n",
       "</style>\n",
       "<table border=\"1\" class=\"dataframe\">\n",
       "  <thead>\n",
       "    <tr style=\"text-align: right;\">\n",
       "      <th></th>\n",
       "      <th>id</th>\n",
       "      <th>TOPIC0</th>\n",
       "      <th>TOPIC1</th>\n",
       "      <th>TOPIC2</th>\n",
       "      <th>TOPIC3</th>\n",
       "      <th>TOPIC4</th>\n",
       "      <th>TOPIC5</th>\n",
       "      <th>TOPIC6</th>\n",
       "      <th>TOPIC7</th>\n",
       "      <th>TOPIC8</th>\n",
       "      <th>...</th>\n",
       "      <th>TOPIC1191</th>\n",
       "      <th>TOPIC1192</th>\n",
       "      <th>TOPIC1193</th>\n",
       "      <th>TOPIC1194</th>\n",
       "      <th>TOPIC1195</th>\n",
       "      <th>TOPIC1196</th>\n",
       "      <th>TOPIC1197</th>\n",
       "      <th>TOPIC1198</th>\n",
       "      <th>TOPIC1199</th>\n",
       "      <th>class</th>\n",
       "    </tr>\n",
       "  </thead>\n",
       "  <tbody>\n",
       "    <tr>\n",
       "      <th>4489</th>\n",
       "      <td>4248</td>\n",
       "      <td>0.077237</td>\n",
       "      <td>-0.004509</td>\n",
       "      <td>0.039199</td>\n",
       "      <td>0.094364</td>\n",
       "      <td>0.034297</td>\n",
       "      <td>0.000693</td>\n",
       "      <td>0.010868</td>\n",
       "      <td>0.011812</td>\n",
       "      <td>0.000873</td>\n",
       "      <td>...</td>\n",
       "      <td>-0.003096</td>\n",
       "      <td>-0.012004</td>\n",
       "      <td>-0.035492</td>\n",
       "      <td>-0.047814</td>\n",
       "      <td>-0.010331</td>\n",
       "      <td>0.034381</td>\n",
       "      <td>-0.049876</td>\n",
       "      <td>-0.022462</td>\n",
       "      <td>-0.021730</td>\n",
       "      <td>pos</td>\n",
       "    </tr>\n",
       "    <tr>\n",
       "      <th>4366</th>\n",
       "      <td>1511</td>\n",
       "      <td>0.003763</td>\n",
       "      <td>0.000654</td>\n",
       "      <td>0.003322</td>\n",
       "      <td>0.003972</td>\n",
       "      <td>0.004378</td>\n",
       "      <td>-0.001532</td>\n",
       "      <td>-0.001132</td>\n",
       "      <td>-0.001117</td>\n",
       "      <td>0.002971</td>\n",
       "      <td>...</td>\n",
       "      <td>-0.022894</td>\n",
       "      <td>-0.009897</td>\n",
       "      <td>-0.023079</td>\n",
       "      <td>0.013697</td>\n",
       "      <td>0.044367</td>\n",
       "      <td>-0.005238</td>\n",
       "      <td>0.009037</td>\n",
       "      <td>0.031081</td>\n",
       "      <td>-0.022616</td>\n",
       "      <td>pos</td>\n",
       "    </tr>\n",
       "    <tr>\n",
       "      <th>23761</th>\n",
       "      <td>4541</td>\n",
       "      <td>0.594009</td>\n",
       "      <td>0.133634</td>\n",
       "      <td>1.183057</td>\n",
       "      <td>0.734439</td>\n",
       "      <td>1.108055</td>\n",
       "      <td>0.568344</td>\n",
       "      <td>0.449185</td>\n",
       "      <td>0.966594</td>\n",
       "      <td>-0.727166</td>\n",
       "      <td>...</td>\n",
       "      <td>0.001425</td>\n",
       "      <td>-0.104534</td>\n",
       "      <td>0.051668</td>\n",
       "      <td>-0.075479</td>\n",
       "      <td>-0.034714</td>\n",
       "      <td>-0.022384</td>\n",
       "      <td>-0.028882</td>\n",
       "      <td>-0.015848</td>\n",
       "      <td>0.042537</td>\n",
       "      <td>pos</td>\n",
       "    </tr>\n",
       "    <tr>\n",
       "      <th>18903</th>\n",
       "      <td>10037</td>\n",
       "      <td>0.053498</td>\n",
       "      <td>0.010492</td>\n",
       "      <td>0.025447</td>\n",
       "      <td>0.072469</td>\n",
       "      <td>-0.058827</td>\n",
       "      <td>0.001985</td>\n",
       "      <td>0.057568</td>\n",
       "      <td>-0.035646</td>\n",
       "      <td>0.017089</td>\n",
       "      <td>...</td>\n",
       "      <td>0.028910</td>\n",
       "      <td>-0.010297</td>\n",
       "      <td>-0.031777</td>\n",
       "      <td>0.019292</td>\n",
       "      <td>0.003302</td>\n",
       "      <td>-0.022367</td>\n",
       "      <td>-0.033018</td>\n",
       "      <td>-0.007436</td>\n",
       "      <td>-0.068394</td>\n",
       "      <td>neg</td>\n",
       "    </tr>\n",
       "    <tr>\n",
       "      <th>21389</th>\n",
       "      <td>2371</td>\n",
       "      <td>0.027159</td>\n",
       "      <td>-0.002618</td>\n",
       "      <td>0.009418</td>\n",
       "      <td>0.041337</td>\n",
       "      <td>-0.007130</td>\n",
       "      <td>0.021808</td>\n",
       "      <td>-0.006475</td>\n",
       "      <td>-0.006858</td>\n",
       "      <td>-0.009456</td>\n",
       "      <td>...</td>\n",
       "      <td>-0.015788</td>\n",
       "      <td>-0.007888</td>\n",
       "      <td>0.031064</td>\n",
       "      <td>-0.005736</td>\n",
       "      <td>0.008113</td>\n",
       "      <td>0.037296</td>\n",
       "      <td>0.043695</td>\n",
       "      <td>0.063913</td>\n",
       "      <td>-0.018704</td>\n",
       "      <td>pos</td>\n",
       "    </tr>\n",
       "  </tbody>\n",
       "</table>\n",
       "<p>5 rows × 1202 columns</p>\n",
       "</div>"
      ],
      "text/plain": [
       "          id    TOPIC0    TOPIC1    TOPIC2    TOPIC3    TOPIC4    TOPIC5  \\\n",
       "4489    4248  0.077237 -0.004509  0.039199  0.094364  0.034297  0.000693   \n",
       "4366    1511  0.003763  0.000654  0.003322  0.003972  0.004378 -0.001532   \n",
       "23761   4541  0.594009  0.133634  1.183057  0.734439  1.108055  0.568344   \n",
       "18903  10037  0.053498  0.010492  0.025447  0.072469 -0.058827  0.001985   \n",
       "21389   2371  0.027159 -0.002618  0.009418  0.041337 -0.007130  0.021808   \n",
       "\n",
       "         TOPIC6    TOPIC7    TOPIC8  ...    TOPIC1191  TOPIC1192  TOPIC1193  \\\n",
       "4489   0.010868  0.011812  0.000873  ...    -0.003096  -0.012004  -0.035492   \n",
       "4366  -0.001132 -0.001117  0.002971  ...    -0.022894  -0.009897  -0.023079   \n",
       "23761  0.449185  0.966594 -0.727166  ...     0.001425  -0.104534   0.051668   \n",
       "18903  0.057568 -0.035646  0.017089  ...     0.028910  -0.010297  -0.031777   \n",
       "21389 -0.006475 -0.006858 -0.009456  ...    -0.015788  -0.007888   0.031064   \n",
       "\n",
       "       TOPIC1194  TOPIC1195  TOPIC1196  TOPIC1197  TOPIC1198  TOPIC1199  class  \n",
       "4489   -0.047814  -0.010331   0.034381  -0.049876  -0.022462  -0.021730    pos  \n",
       "4366    0.013697   0.044367  -0.005238   0.009037   0.031081  -0.022616    pos  \n",
       "23761  -0.075479  -0.034714  -0.022384  -0.028882  -0.015848   0.042537    pos  \n",
       "18903   0.019292   0.003302  -0.022367  -0.033018  -0.007436  -0.068394    neg  \n",
       "21389  -0.005736   0.008113   0.037296   0.043695   0.063913  -0.018704    pos  \n",
       "\n",
       "[5 rows x 1202 columns]"
      ]
     },
     "execution_count": 439,
     "metadata": {},
     "output_type": "execute_result"
    }
   ],
   "source": [
    "majority_df.head()"
   ]
  },
  {
   "cell_type": "code",
   "execution_count": 553,
   "metadata": {},
   "outputs": [
    {
     "data": {
      "text/plain": [
       "0.881171702284451"
      ]
     },
     "execution_count": 553,
     "metadata": {},
     "output_type": "execute_result"
    }
   ],
   "source": [
    "X = majority_df.iloc[:,:-1]\n",
    "Y = majority_df['class']\n",
    "clf2 = tree.DecisionTreeClassifier()\n",
    "clf2 = clf2.fit(X, Y)\n",
    "test = pd.read_csv('assignment2_data/test.csv')\n",
    "testX = test.iloc[:,:-1]\n",
    "testY = test['class']\n",
    "\n",
    "# test\n",
    "test_predict = clf2.predict(testX)\n",
    "\n",
    "\n",
    "#test classifier2 using test data\n",
    "test_predict = clf.predict(testX)\n",
    "#confusion matrix\n",
    "confusion = confusion_matrix(testY, test_predict)\n",
    "#predictions\n",
    "report = classification_report(testY, test_predict) \n",
    "# Compute accuracy \n",
    "acc = accuracy_score(testY, test_predict)\n",
    "#prediction probability\n",
    "predict_proba = clf.predict_proba(testX)\n",
    "\n",
    "acc"
   ]
  },
  {
   "cell_type": "code",
   "execution_count": null,
   "metadata": {},
   "outputs": [],
   "source": [
    "\n",
    "#saving to file\n",
    "with open('assignment2_data/train_mv.txt', 'w') as f:\n",
    "    f.write(\"Confusion Matrix\\n\")\n",
    "    f.write(\"%s\\n\" % confusion)\n",
    "    f.write(\"Accuracy\\n\")\n",
    "    f.write(\"%s\\n\" % acc)\n",
    "    f.write(\"classification_report\\n\")\n",
    "    f.write(\"%s\\n\" % reprot)\n",
    "    f.write(\"prediction probabilities\\n\")\n",
    "    for item in predict_proba:\n",
    "        f.write(\"%s\\n\" % item)"
   ]
  },
  {
   "cell_type": "markdown",
   "metadata": {},
   "source": [
    "## Part 3 - model training using crowdsourced data with David & Skene method"
   ]
  },
  {
   "cell_type": "markdown",
   "metadata": {},
   "source": [
    "## Write a script to build a classification model using Decision Trees \n",
    "that take as input the file produced in task 4 (i.e. mturk_sample.csv). \n",
    "Aggregate the labels provided by workers using David & Skene method that uses maximum likelihood estimation approach. \n",
    "The script should aggregate labels, train a model, test its performance using test dataset (i.e. test.csv) \n",
    "and save the resulting model F-score, accuracy and prediction probabilities in a text file (i.e. train_ds.txt)."
   ]
  },
  {
   "cell_type": "code",
   "execution_count": 210,
   "metadata": {},
   "outputs": [],
   "source": [
    "mturk_sample = pd.read_csv('assignment2_data/mturk_sample.csv')"
   ]
  },
  {
   "cell_type": "code",
   "execution_count": 211,
   "metadata": {},
   "outputs": [],
   "source": [
    "workers_ids = set(mturk_sample.annotator.unique())"
   ]
  },
  {
   "cell_type": "code",
   "execution_count": 447,
   "metadata": {},
   "outputs": [],
   "source": [
    "## initalize estimated polarity using majority votes\n",
    "polarity = pd.DataFrame(columns=[\"id\",\"pos\",\"neg\",\"class\"])\n",
    "polarity['id']= mturk_sample.id.unique()\n",
    "polarity['pos'] = 0\n",
    "polarity['neg'] = 0\n"
   ]
  },
  {
   "cell_type": "code",
   "execution_count": 504,
   "metadata": {
    "scrolled": true
   },
   "outputs": [
    {
     "data": {
      "text/html": [
       "<div>\n",
       "<style scoped>\n",
       "    .dataframe tbody tr th:only-of-type {\n",
       "        vertical-align: middle;\n",
       "    }\n",
       "\n",
       "    .dataframe tbody tr th {\n",
       "        vertical-align: top;\n",
       "    }\n",
       "\n",
       "    .dataframe thead th {\n",
       "        text-align: right;\n",
       "    }\n",
       "</style>\n",
       "<table border=\"1\" class=\"dataframe\">\n",
       "  <thead>\n",
       "    <tr style=\"text-align: right;\">\n",
       "      <th></th>\n",
       "      <th>id</th>\n",
       "      <th>pos</th>\n",
       "      <th>neg</th>\n",
       "      <th>class</th>\n",
       "    </tr>\n",
       "  </thead>\n",
       "  <tbody>\n",
       "    <tr>\n",
       "      <th>0</th>\n",
       "      <td>5133</td>\n",
       "      <td>6</td>\n",
       "      <td>0</td>\n",
       "      <td>1</td>\n",
       "    </tr>\n",
       "    <tr>\n",
       "      <th>1</th>\n",
       "      <td>4491</td>\n",
       "      <td>6</td>\n",
       "      <td>0</td>\n",
       "      <td>1</td>\n",
       "    </tr>\n",
       "    <tr>\n",
       "      <th>2</th>\n",
       "      <td>2696</td>\n",
       "      <td>5</td>\n",
       "      <td>1</td>\n",
       "      <td>1</td>\n",
       "    </tr>\n",
       "    <tr>\n",
       "      <th>3</th>\n",
       "      <td>561</td>\n",
       "      <td>5</td>\n",
       "      <td>0</td>\n",
       "      <td>1</td>\n",
       "    </tr>\n",
       "    <tr>\n",
       "      <th>4</th>\n",
       "      <td>8155</td>\n",
       "      <td>0</td>\n",
       "      <td>5</td>\n",
       "      <td>0</td>\n",
       "    </tr>\n",
       "  </tbody>\n",
       "</table>\n",
       "</div>"
      ],
      "text/plain": [
       "     id  pos  neg  class\n",
       "0  5133    6    0      1\n",
       "1  4491    6    0      1\n",
       "2  2696    5    1      1\n",
       "3   561    5    0      1\n",
       "4  8155    0    5      0"
      ]
     },
     "execution_count": 504,
     "metadata": {},
     "output_type": "execute_result"
    }
   ],
   "source": [
    "polarity.head()"
   ]
  },
  {
   "cell_type": "code",
   "execution_count": 448,
   "metadata": {},
   "outputs": [],
   "source": [
    "from collections import Counter\n",
    "\n",
    "## calculate majority vote\n",
    "for i in sample_ids:\n",
    "    \n",
    "    rows= mturk_sample[mturk_sample.id==i]\n",
    "    \n",
    "    votes = Counter(rows['class']) \n",
    "    polarity.loc[polarity['id']==i,'pos']=votes['pos']\n",
    "    polarity.loc[polarity['id']==i,'neg']=votes['neg']\n",
    "    \n",
    "polarity['class'] =polarity['pos'] >= polarity['neg'] # True if max==pos or pos==neg else False \n",
    "#if pos==neg then it is positive 1\n"
   ]
  },
  {
   "cell_type": "code",
   "execution_count": 449,
   "metadata": {},
   "outputs": [],
   "source": [
    "polarity['class']=polarity['class'].astype('int') # True = 1 , False = 0 "
   ]
  },
  {
   "cell_type": "code",
   "execution_count": 450,
   "metadata": {
    "scrolled": false
   },
   "outputs": [
    {
     "data": {
      "text/html": [
       "<div>\n",
       "<style scoped>\n",
       "    .dataframe tbody tr th:only-of-type {\n",
       "        vertical-align: middle;\n",
       "    }\n",
       "\n",
       "    .dataframe tbody tr th {\n",
       "        vertical-align: top;\n",
       "    }\n",
       "\n",
       "    .dataframe thead th {\n",
       "        text-align: right;\n",
       "    }\n",
       "</style>\n",
       "<table border=\"1\" class=\"dataframe\">\n",
       "  <thead>\n",
       "    <tr style=\"text-align: right;\">\n",
       "      <th></th>\n",
       "      <th>id</th>\n",
       "      <th>pos</th>\n",
       "      <th>neg</th>\n",
       "      <th>class</th>\n",
       "    </tr>\n",
       "  </thead>\n",
       "  <tbody>\n",
       "    <tr>\n",
       "      <th>0</th>\n",
       "      <td>5133</td>\n",
       "      <td>6</td>\n",
       "      <td>0</td>\n",
       "      <td>1</td>\n",
       "    </tr>\n",
       "    <tr>\n",
       "      <th>1</th>\n",
       "      <td>4491</td>\n",
       "      <td>6</td>\n",
       "      <td>0</td>\n",
       "      <td>1</td>\n",
       "    </tr>\n",
       "    <tr>\n",
       "      <th>2</th>\n",
       "      <td>2696</td>\n",
       "      <td>5</td>\n",
       "      <td>1</td>\n",
       "      <td>1</td>\n",
       "    </tr>\n",
       "    <tr>\n",
       "      <th>3</th>\n",
       "      <td>561</td>\n",
       "      <td>5</td>\n",
       "      <td>0</td>\n",
       "      <td>1</td>\n",
       "    </tr>\n",
       "    <tr>\n",
       "      <th>4</th>\n",
       "      <td>8155</td>\n",
       "      <td>0</td>\n",
       "      <td>5</td>\n",
       "      <td>0</td>\n",
       "    </tr>\n",
       "  </tbody>\n",
       "</table>\n",
       "</div>"
      ],
      "text/plain": [
       "     id  pos  neg  class\n",
       "0  5133    6    0      1\n",
       "1  4491    6    0      1\n",
       "2  2696    5    1      1\n",
       "3   561    5    0      1\n",
       "4  8155    0    5      0"
      ]
     },
     "execution_count": 450,
     "metadata": {},
     "output_type": "execute_result"
    }
   ],
   "source": [
    "polarity.head()"
   ]
  },
  {
   "cell_type": "code",
   "execution_count": 451,
   "metadata": {},
   "outputs": [],
   "source": [
    "workersdf= pd.DataFrame(columns=[\"annotator\",\"pos_pos\",\"neg_neg\",\"pos_neg\",\"neg_pos\"])\n",
    "workersdf['annotator'] = list(workers_ids)\n",
    "workersdf.fillna(0.0,inplace=True)\n"
   ]
  },
  {
   "cell_type": "code",
   "execution_count": 505,
   "metadata": {},
   "outputs": [
    {
     "data": {
      "text/html": [
       "<div>\n",
       "<style scoped>\n",
       "    .dataframe tbody tr th:only-of-type {\n",
       "        vertical-align: middle;\n",
       "    }\n",
       "\n",
       "    .dataframe tbody tr th {\n",
       "        vertical-align: top;\n",
       "    }\n",
       "\n",
       "    .dataframe thead th {\n",
       "        text-align: right;\n",
       "    }\n",
       "</style>\n",
       "<table border=\"1\" class=\"dataframe\">\n",
       "  <thead>\n",
       "    <tr style=\"text-align: right;\">\n",
       "      <th></th>\n",
       "      <th>annotator</th>\n",
       "      <th>pos_pos</th>\n",
       "      <th>neg_neg</th>\n",
       "      <th>pos_neg</th>\n",
       "      <th>neg_pos</th>\n",
       "      <th>postotal</th>\n",
       "      <th>negtotal</th>\n",
       "    </tr>\n",
       "  </thead>\n",
       "  <tbody>\n",
       "    <tr>\n",
       "      <th>0</th>\n",
       "      <td>A2JUTTLDE5LGHH</td>\n",
       "      <td>1.0</td>\n",
       "      <td>1.000000</td>\n",
       "      <td>0.0</td>\n",
       "      <td>0.000000</td>\n",
       "      <td>3.0</td>\n",
       "      <td>1.0</td>\n",
       "    </tr>\n",
       "    <tr>\n",
       "      <th>1</th>\n",
       "      <td>A2LCFORIW0NF1S</td>\n",
       "      <td>1.0</td>\n",
       "      <td>1.000000</td>\n",
       "      <td>0.0</td>\n",
       "      <td>0.000000</td>\n",
       "      <td>1.0</td>\n",
       "      <td>1.0</td>\n",
       "    </tr>\n",
       "    <tr>\n",
       "      <th>2</th>\n",
       "      <td>A3RP23KJ7MEI1J</td>\n",
       "      <td>1.0</td>\n",
       "      <td>0.833333</td>\n",
       "      <td>0.0</td>\n",
       "      <td>0.166667</td>\n",
       "      <td>1.0</td>\n",
       "      <td>6.0</td>\n",
       "    </tr>\n",
       "    <tr>\n",
       "      <th>3</th>\n",
       "      <td>A21YLMNQ9EHYS2</td>\n",
       "      <td>0.0</td>\n",
       "      <td>0.000000</td>\n",
       "      <td>0.0</td>\n",
       "      <td>1.000000</td>\n",
       "      <td>0.0</td>\n",
       "      <td>1.0</td>\n",
       "    </tr>\n",
       "    <tr>\n",
       "      <th>4</th>\n",
       "      <td>A1KH62H92N4L13</td>\n",
       "      <td>1.0</td>\n",
       "      <td>0.000000</td>\n",
       "      <td>0.0</td>\n",
       "      <td>0.000000</td>\n",
       "      <td>1.0</td>\n",
       "      <td>0.0</td>\n",
       "    </tr>\n",
       "  </tbody>\n",
       "</table>\n",
       "</div>"
      ],
      "text/plain": [
       "        annotator  pos_pos   neg_neg  pos_neg   neg_pos  postotal  negtotal\n",
       "0  A2JUTTLDE5LGHH      1.0  1.000000      0.0  0.000000       3.0       1.0\n",
       "1  A2LCFORIW0NF1S      1.0  1.000000      0.0  0.000000       1.0       1.0\n",
       "2  A3RP23KJ7MEI1J      1.0  0.833333      0.0  0.166667       1.0       6.0\n",
       "3  A21YLMNQ9EHYS2      0.0  0.000000      0.0  1.000000       0.0       1.0\n",
       "4  A1KH62H92N4L13      1.0  0.000000      0.0  0.000000       1.0       0.0"
      ]
     },
     "execution_count": 505,
     "metadata": {},
     "output_type": "execute_result"
    }
   ],
   "source": [
    "workersdf.head()"
   ]
  },
  {
   "cell_type": "code",
   "execution_count": 453,
   "metadata": {},
   "outputs": [
    {
     "name": "stderr",
     "output_type": "stream",
     "text": [
      "/Users/suaddarra/anaconda3/lib/python3.7/site-packages/ipykernel_launcher.py:1: SettingWithCopyWarning: \n",
      "A value is trying to be set on a copy of a slice from a DataFrame.\n",
      "Try using .loc[row_indexer,col_indexer] = value instead\n",
      "\n",
      "See the caveats in the documentation: http://pandas.pydata.org/pandas-docs/stable/indexing.html#indexing-view-versus-copy\n",
      "  \"\"\"Entry point for launching an IPython kernel.\n"
     ]
    }
   ],
   "source": [
    "mturk_sample['classint']= mturk_sample['class'].apply(lambda x:0 if x==\"neg\" else 1)"
   ]
  },
  {
   "cell_type": "code",
   "execution_count": 454,
   "metadata": {},
   "outputs": [],
   "source": [
    "for n,row in mturk_sample.iterrows():\n",
    "    worker = row['annotator']\n",
    "    label = row['classint']\n",
    "    majority = int(polarity[polarity.id==row.id]['class'])\n",
    "    if (majority == label):\n",
    "        # update worker array\n",
    "        if(label ==1):\n",
    "            workersdf.loc[workersdf.annotator==worker,'pos_pos']+=1\n",
    "        else:\n",
    "            workersdf.loc[workersdf.annotator==worker,'neg_neg']+=1\n",
    "    else:\n",
    "        if(label==1):\n",
    "            workersdf.loc[workersdf.annotator==worker,'pos_neg']+=1\n",
    "        else:\n",
    "            workersdf.loc[workersdf.annotator==worker,'neg_pos']+=1\n",
    "            "
   ]
  },
  {
   "cell_type": "code",
   "execution_count": 455,
   "metadata": {},
   "outputs": [
    {
     "data": {
      "text/html": [
       "<div>\n",
       "<style scoped>\n",
       "    .dataframe tbody tr th:only-of-type {\n",
       "        vertical-align: middle;\n",
       "    }\n",
       "\n",
       "    .dataframe tbody tr th {\n",
       "        vertical-align: top;\n",
       "    }\n",
       "\n",
       "    .dataframe thead th {\n",
       "        text-align: right;\n",
       "    }\n",
       "</style>\n",
       "<table border=\"1\" class=\"dataframe\">\n",
       "  <thead>\n",
       "    <tr style=\"text-align: right;\">\n",
       "      <th></th>\n",
       "      <th>annotator</th>\n",
       "      <th>pos_pos</th>\n",
       "      <th>neg_neg</th>\n",
       "      <th>pos_neg</th>\n",
       "      <th>neg_pos</th>\n",
       "    </tr>\n",
       "  </thead>\n",
       "  <tbody>\n",
       "    <tr>\n",
       "      <th>0</th>\n",
       "      <td>A2JUTTLDE5LGHH</td>\n",
       "      <td>3.0</td>\n",
       "      <td>1.0</td>\n",
       "      <td>0.0</td>\n",
       "      <td>0.0</td>\n",
       "    </tr>\n",
       "    <tr>\n",
       "      <th>1</th>\n",
       "      <td>A2LCFORIW0NF1S</td>\n",
       "      <td>1.0</td>\n",
       "      <td>1.0</td>\n",
       "      <td>0.0</td>\n",
       "      <td>0.0</td>\n",
       "    </tr>\n",
       "    <tr>\n",
       "      <th>2</th>\n",
       "      <td>A3RP23KJ7MEI1J</td>\n",
       "      <td>1.0</td>\n",
       "      <td>5.0</td>\n",
       "      <td>0.0</td>\n",
       "      <td>1.0</td>\n",
       "    </tr>\n",
       "    <tr>\n",
       "      <th>3</th>\n",
       "      <td>A21YLMNQ9EHYS2</td>\n",
       "      <td>0.0</td>\n",
       "      <td>0.0</td>\n",
       "      <td>0.0</td>\n",
       "      <td>1.0</td>\n",
       "    </tr>\n",
       "    <tr>\n",
       "      <th>4</th>\n",
       "      <td>A1KH62H92N4L13</td>\n",
       "      <td>1.0</td>\n",
       "      <td>0.0</td>\n",
       "      <td>0.0</td>\n",
       "      <td>0.0</td>\n",
       "    </tr>\n",
       "  </tbody>\n",
       "</table>\n",
       "</div>"
      ],
      "text/plain": [
       "        annotator  pos_pos  neg_neg  pos_neg  neg_pos\n",
       "0  A2JUTTLDE5LGHH      3.0      1.0      0.0      0.0\n",
       "1  A2LCFORIW0NF1S      1.0      1.0      0.0      0.0\n",
       "2  A3RP23KJ7MEI1J      1.0      5.0      0.0      1.0\n",
       "3  A21YLMNQ9EHYS2      0.0      0.0      0.0      1.0\n",
       "4  A1KH62H92N4L13      1.0      0.0      0.0      0.0"
      ]
     },
     "execution_count": 455,
     "metadata": {},
     "output_type": "execute_result"
    }
   ],
   "source": [
    "workersdf.head()"
   ]
  },
  {
   "cell_type": "code",
   "execution_count": 456,
   "metadata": {},
   "outputs": [],
   "source": [
    "#normalize\n",
    "workersdf['postotal'] = workersdf['pos_pos'] + workersdf['pos_neg'] \n",
    "workersdf['negtotal'] = workersdf['neg_neg'] + workersdf['neg_pos'] "
   ]
  },
  {
   "cell_type": "code",
   "execution_count": 457,
   "metadata": {},
   "outputs": [],
   "source": [
    "workersdf['pos_pos'] = workersdf['pos_pos']/workersdf['postotal']\n",
    "workersdf['neg_neg'] = workersdf['neg_neg']/workersdf['negtotal']\n",
    "workersdf['pos_neg'] = workersdf['pos_neg']/workersdf['postotal'] \n",
    "workersdf['neg_pos'] = workersdf['neg_pos']/workersdf['negtotal'] \n"
   ]
  },
  {
   "cell_type": "code",
   "execution_count": 458,
   "metadata": {
    "scrolled": true
   },
   "outputs": [
    {
     "data": {
      "text/html": [
       "<div>\n",
       "<style scoped>\n",
       "    .dataframe tbody tr th:only-of-type {\n",
       "        vertical-align: middle;\n",
       "    }\n",
       "\n",
       "    .dataframe tbody tr th {\n",
       "        vertical-align: top;\n",
       "    }\n",
       "\n",
       "    .dataframe thead th {\n",
       "        text-align: right;\n",
       "    }\n",
       "</style>\n",
       "<table border=\"1\" class=\"dataframe\">\n",
       "  <thead>\n",
       "    <tr style=\"text-align: right;\">\n",
       "      <th></th>\n",
       "      <th>annotator</th>\n",
       "      <th>pos_pos</th>\n",
       "      <th>neg_neg</th>\n",
       "      <th>pos_neg</th>\n",
       "      <th>neg_pos</th>\n",
       "      <th>postotal</th>\n",
       "      <th>negtotal</th>\n",
       "    </tr>\n",
       "  </thead>\n",
       "  <tbody>\n",
       "    <tr>\n",
       "      <th>0</th>\n",
       "      <td>A2JUTTLDE5LGHH</td>\n",
       "      <td>1.0</td>\n",
       "      <td>1.000000</td>\n",
       "      <td>0.0</td>\n",
       "      <td>0.000000</td>\n",
       "      <td>3.0</td>\n",
       "      <td>1.0</td>\n",
       "    </tr>\n",
       "    <tr>\n",
       "      <th>1</th>\n",
       "      <td>A2LCFORIW0NF1S</td>\n",
       "      <td>1.0</td>\n",
       "      <td>1.000000</td>\n",
       "      <td>0.0</td>\n",
       "      <td>0.000000</td>\n",
       "      <td>1.0</td>\n",
       "      <td>1.0</td>\n",
       "    </tr>\n",
       "    <tr>\n",
       "      <th>2</th>\n",
       "      <td>A3RP23KJ7MEI1J</td>\n",
       "      <td>1.0</td>\n",
       "      <td>0.833333</td>\n",
       "      <td>0.0</td>\n",
       "      <td>0.166667</td>\n",
       "      <td>1.0</td>\n",
       "      <td>6.0</td>\n",
       "    </tr>\n",
       "    <tr>\n",
       "      <th>3</th>\n",
       "      <td>A21YLMNQ9EHYS2</td>\n",
       "      <td>0.0</td>\n",
       "      <td>0.000000</td>\n",
       "      <td>0.0</td>\n",
       "      <td>1.000000</td>\n",
       "      <td>0.0</td>\n",
       "      <td>1.0</td>\n",
       "    </tr>\n",
       "    <tr>\n",
       "      <th>4</th>\n",
       "      <td>A1KH62H92N4L13</td>\n",
       "      <td>1.0</td>\n",
       "      <td>0.000000</td>\n",
       "      <td>0.0</td>\n",
       "      <td>0.000000</td>\n",
       "      <td>1.0</td>\n",
       "      <td>0.0</td>\n",
       "    </tr>\n",
       "  </tbody>\n",
       "</table>\n",
       "</div>"
      ],
      "text/plain": [
       "        annotator  pos_pos   neg_neg  pos_neg   neg_pos  postotal  negtotal\n",
       "0  A2JUTTLDE5LGHH      1.0  1.000000      0.0  0.000000       3.0       1.0\n",
       "1  A2LCFORIW0NF1S      1.0  1.000000      0.0  0.000000       1.0       1.0\n",
       "2  A3RP23KJ7MEI1J      1.0  0.833333      0.0  0.166667       1.0       6.0\n",
       "3  A21YLMNQ9EHYS2      0.0  0.000000      0.0  1.000000       0.0       1.0\n",
       "4  A1KH62H92N4L13      1.0  0.000000      0.0  0.000000       1.0       0.0"
      ]
     },
     "execution_count": 458,
     "metadata": {},
     "output_type": "execute_result"
    }
   ],
   "source": [
    "workersdf.fillna(0.0,inplace=True)\n",
    "workersdf.head()"
   ]
  },
  {
   "cell_type": "code",
   "execution_count": 527,
   "metadata": {},
   "outputs": [],
   "source": [
    "polarity2 = pd.DataFrame(polarity,copy=True)\n",
    "workersdf2 = pd.DataFrame(workersdf,copy=True)\n",
    "workersdf2 = workersdf2.round(2)\n",
    "polarity2 = polarity2.round(2)"
   ]
  },
  {
   "cell_type": "code",
   "execution_count": 528,
   "metadata": {},
   "outputs": [
    {
     "name": "stdout",
     "output_type": "stream",
     "text": [
      "     id  pos  neg  class\n",
      "4  8155  0.1  0.9      0\n",
      "         annotator  pos_pos  neg_neg  pos_neg  neg_pos  postotal  negtotal\n",
      "21  A2J4TPLU00ZRYJ      1.0      1.0      0.0      0.0      5.25      7.77\n",
      "     id   pos   neg  class\n",
      "4  8155  0.08  0.92      0\n",
      "         annotator  pos_pos  neg_neg  pos_neg  neg_pos  postotal  negtotal\n",
      "21  A2J4TPLU00ZRYJ      1.0      1.0      0.0      0.0      5.38      7.87\n",
      "     id   pos   neg  class\n",
      "4  8155  0.08  0.92      0\n",
      "         annotator  pos_pos  neg_neg  pos_neg  neg_pos  postotal  negtotal\n",
      "21  A2J4TPLU00ZRYJ      1.0      1.0      0.0      0.0      5.38      7.87\n",
      "     id   pos   neg  class\n",
      "4  8155  0.08  0.92      0\n",
      "         annotator  pos_pos  neg_neg  pos_neg  neg_pos  postotal  negtotal\n",
      "21  A2J4TPLU00ZRYJ      1.0      1.0      0.0      0.0      5.37      7.88\n",
      "     id   pos   neg  class\n",
      "4  8155  0.08  0.92      0\n",
      "         annotator  pos_pos  neg_neg  pos_neg  neg_pos  postotal  negtotal\n",
      "21  A2J4TPLU00ZRYJ      1.0      1.0      0.0      0.0      5.37       7.9\n",
      "     id   pos   neg  class\n",
      "4  8155  0.08  0.92      0\n",
      "         annotator  pos_pos  neg_neg  pos_neg  neg_pos  postotal  negtotal\n",
      "21  A2J4TPLU00ZRYJ      1.0      1.0      0.0      0.0      5.37      7.91\n",
      "     id   pos   neg  class\n",
      "4  8155  0.08  0.92      0\n",
      "         annotator  pos_pos  neg_neg  pos_neg  neg_pos  postotal  negtotal\n",
      "21  A2J4TPLU00ZRYJ      1.0      1.0      0.0      0.0      5.37      7.91\n",
      "     id   pos   neg  class\n",
      "4  8155  0.08  0.92      0\n",
      "         annotator  pos_pos  neg_neg  pos_neg  neg_pos  postotal  negtotal\n",
      "21  A2J4TPLU00ZRYJ      1.0      1.0      0.0      0.0      5.37      7.91\n",
      "converge at loop 9\n"
     ]
    }
   ],
   "source": [
    "# repeat until convergence\n",
    "loops=1\n",
    "while True:\n",
    "    \n",
    "    ######## update polarity #######\n",
    "    polarity_old = pd.DataFrame(polarity2,copy=True)\n",
    "    \n",
    "    # iterate sample ids\n",
    "    for x,i in enumerate(sample_ids):\n",
    "        #get samples info\n",
    "        rows= mturk_sample[mturk_sample.id==i]\n",
    "        pos = 0\n",
    "        neg = 0\n",
    "        #iterate samples\n",
    "        for n,row in rows.iterrows():\n",
    "            #get workers and their vote\n",
    "            worker = row['annotator']\n",
    "            classint = int(row['classint'])\n",
    "            #print(worker,classint,i)\n",
    "            temp = workersdf2[workersdf2.annotator==worker]\n",
    "                \n",
    "            if (classint==1):\n",
    "                pos+=round(float(temp.pos_pos),2)\n",
    "                neg+=round(float(temp.pos_neg),2)\n",
    "            elif (classint==0):\n",
    "                neg+=round(float(temp.neg_neg),2)\n",
    "                pos+=round(float(temp.neg_pos),2)\n",
    "            else:\n",
    "                print('notZeroOrOne',classint)\n",
    "        \n",
    "        total=pos+neg #to normalize polarity\n",
    "        v=0\n",
    "        v2=0\n",
    "        \n",
    "        if(total>0):\n",
    "            v = round(float(pos/total),2)\n",
    "            v2 = round(float(neg/total),2)\n",
    "        else:\n",
    "            print(pos,neg,total)\n",
    "\n",
    "        polarity2.loc[polarity2['id']==i,'pos']=v\n",
    "        polarity2.loc[polarity2['id']==i,'neg']=v2\n",
    "        polarity2.loc[polarity2['id']==i,'class']= 1 if pos>=neg else 0\n",
    "        \n",
    "    #check convergence\n",
    "    if(polarity_old.equals(polarity2)):\n",
    "        print('converge at loop',loops)\n",
    "        break\n",
    "    \n",
    "    ######## update workers accuracy ########\n",
    "    \n",
    "    for n,row in mturk_sample.iterrows():\n",
    "        worker = row['annotator']\n",
    "        label = row['classint']\n",
    "        majority = int(polarity2[polarity2.id==row.id]['class'])\n",
    "        if (majority == label):\n",
    "            # update worker array\n",
    "            if(label ==1):\n",
    "                #print('maj==label==1')\n",
    "                workersdf2.loc[workersdf2.annotator==worker,'pos_pos']+= round(float(polarity2[polarity2.id==row.id]['pos']),2)\n",
    "            else:\n",
    "                #print('maj==label==0')\n",
    "\n",
    "                workersdf2.loc[workersdf2.annotator==worker,'neg_neg']+= round(float(polarity2[polarity2.id==row.id]['neg']),2)\n",
    "        else:\n",
    "            if(label==1):\n",
    "                #print('maj==0 label==1')\n",
    "\n",
    "                workersdf2.loc[workersdf2.annotator==worker,'pos_neg']+= round(float(polarity2[polarity2.id==row.id]['neg']),2)\n",
    "            else:\n",
    "                #print('maj==1 label==0')\n",
    "\n",
    "                workersdf2.loc[workersdf2.annotator==worker,'neg_pos']+= round(float(polarity2[polarity2.id==row.id]['pos']),2)\n",
    "\n",
    "    #normalize\n",
    "    workersdf2['postotal'] = workersdf2['pos_pos'] + workersdf2['pos_neg'] \n",
    "    workersdf2['negtotal'] = workersdf2['neg_neg'] + workersdf2['neg_pos'] \n",
    "    \n",
    "    workersdf2['pos_pos'] = workersdf2['pos_pos'] / workersdf2['postotal']\n",
    "    workersdf2['neg_neg'] = workersdf2['neg_neg'] / workersdf2['negtotal']\n",
    "    workersdf2['pos_neg'] = workersdf2['pos_neg'] / workersdf2['postotal'] \n",
    "    workersdf2['neg_pos'] = workersdf2['neg_pos'] / workersdf2['negtotal'] \n",
    "    workersdf2.fillna(0.0,inplace=True)\n",
    "    workersdf2 = workersdf2.round(2)\n",
    "    loops+=1\n",
    "    print(polarity2[polarity2.id==8155])\n",
    "    print(workersdf2[workersdf2.annotator=='A2J4TPLU00ZRYJ'])\n",
    "    if(loops==30):\n",
    "        break\n"
   ]
  },
  {
   "cell_type": "code",
   "execution_count": 145,
   "metadata": {},
   "outputs": [
    {
     "data": {
      "text/plain": [
       "1000"
      ]
     },
     "execution_count": 145,
     "metadata": {},
     "output_type": "execute_result"
    }
   ],
   "source": [
    "polarity2.index.size"
   ]
  },
  {
   "cell_type": "code",
   "execution_count": 529,
   "metadata": {},
   "outputs": [
    {
     "data": {
      "text/html": [
       "<div>\n",
       "<style scoped>\n",
       "    .dataframe tbody tr th:only-of-type {\n",
       "        vertical-align: middle;\n",
       "    }\n",
       "\n",
       "    .dataframe tbody tr th {\n",
       "        vertical-align: top;\n",
       "    }\n",
       "\n",
       "    .dataframe thead th {\n",
       "        text-align: right;\n",
       "    }\n",
       "</style>\n",
       "<table border=\"1\" class=\"dataframe\">\n",
       "  <thead>\n",
       "    <tr style=\"text-align: right;\">\n",
       "      <th></th>\n",
       "      <th>id</th>\n",
       "      <th>pos</th>\n",
       "      <th>neg</th>\n",
       "      <th>class</th>\n",
       "    </tr>\n",
       "  </thead>\n",
       "  <tbody>\n",
       "    <tr>\n",
       "      <th>995</th>\n",
       "      <td>3978</td>\n",
       "      <td>3</td>\n",
       "      <td>2</td>\n",
       "      <td>1</td>\n",
       "    </tr>\n",
       "    <tr>\n",
       "      <th>996</th>\n",
       "      <td>10410</td>\n",
       "      <td>2</td>\n",
       "      <td>3</td>\n",
       "      <td>0</td>\n",
       "    </tr>\n",
       "    <tr>\n",
       "      <th>997</th>\n",
       "      <td>4501</td>\n",
       "      <td>1</td>\n",
       "      <td>4</td>\n",
       "      <td>0</td>\n",
       "    </tr>\n",
       "    <tr>\n",
       "      <th>998</th>\n",
       "      <td>8843</td>\n",
       "      <td>0</td>\n",
       "      <td>5</td>\n",
       "      <td>0</td>\n",
       "    </tr>\n",
       "    <tr>\n",
       "      <th>999</th>\n",
       "      <td>7724</td>\n",
       "      <td>0</td>\n",
       "      <td>5</td>\n",
       "      <td>0</td>\n",
       "    </tr>\n",
       "  </tbody>\n",
       "</table>\n",
       "</div>"
      ],
      "text/plain": [
       "        id  pos  neg  class\n",
       "995   3978    3    2      1\n",
       "996  10410    2    3      0\n",
       "997   4501    1    4      0\n",
       "998   8843    0    5      0\n",
       "999   7724    0    5      0"
      ]
     },
     "execution_count": 529,
     "metadata": {},
     "output_type": "execute_result"
    }
   ],
   "source": [
    "polarity.tail()"
   ]
  },
  {
   "cell_type": "code",
   "execution_count": 530,
   "metadata": {},
   "outputs": [
    {
     "data": {
      "text/html": [
       "<div>\n",
       "<style scoped>\n",
       "    .dataframe tbody tr th:only-of-type {\n",
       "        vertical-align: middle;\n",
       "    }\n",
       "\n",
       "    .dataframe tbody tr th {\n",
       "        vertical-align: top;\n",
       "    }\n",
       "\n",
       "    .dataframe thead th {\n",
       "        text-align: right;\n",
       "    }\n",
       "</style>\n",
       "<table border=\"1\" class=\"dataframe\">\n",
       "  <thead>\n",
       "    <tr style=\"text-align: right;\">\n",
       "      <th></th>\n",
       "      <th>id</th>\n",
       "      <th>pos</th>\n",
       "      <th>neg</th>\n",
       "      <th>class</th>\n",
       "    </tr>\n",
       "  </thead>\n",
       "  <tbody>\n",
       "    <tr>\n",
       "      <th>995</th>\n",
       "      <td>3978</td>\n",
       "      <td>0.57</td>\n",
       "      <td>0.43</td>\n",
       "      <td>1</td>\n",
       "    </tr>\n",
       "    <tr>\n",
       "      <th>996</th>\n",
       "      <td>10410</td>\n",
       "      <td>0.37</td>\n",
       "      <td>0.63</td>\n",
       "      <td>0</td>\n",
       "    </tr>\n",
       "    <tr>\n",
       "      <th>997</th>\n",
       "      <td>4501</td>\n",
       "      <td>0.21</td>\n",
       "      <td>0.79</td>\n",
       "      <td>0</td>\n",
       "    </tr>\n",
       "    <tr>\n",
       "      <th>998</th>\n",
       "      <td>8843</td>\n",
       "      <td>0.10</td>\n",
       "      <td>0.90</td>\n",
       "      <td>0</td>\n",
       "    </tr>\n",
       "    <tr>\n",
       "      <th>999</th>\n",
       "      <td>7724</td>\n",
       "      <td>0.18</td>\n",
       "      <td>0.82</td>\n",
       "      <td>0</td>\n",
       "    </tr>\n",
       "  </tbody>\n",
       "</table>\n",
       "</div>"
      ],
      "text/plain": [
       "        id   pos   neg  class\n",
       "995   3978  0.57  0.43      1\n",
       "996  10410  0.37  0.63      0\n",
       "997   4501  0.21  0.79      0\n",
       "998   8843  0.10  0.90      0\n",
       "999   7724  0.18  0.82      0"
      ]
     },
     "execution_count": 530,
     "metadata": {},
     "output_type": "execute_result"
    }
   ],
   "source": [
    "polarity2.tail()"
   ]
  },
  {
   "cell_type": "markdown",
   "metadata": {},
   "source": [
    "## check results"
   ]
  },
  {
   "cell_type": "code",
   "execution_count": 531,
   "metadata": {
    "scrolled": true
   },
   "outputs": [],
   "source": [
    "compare = pd.merge(polarity,polarity2,on=\"id\")\n",
    "diff = compare[compare.class_x!=compare.class_y]"
   ]
  },
  {
   "cell_type": "code",
   "execution_count": 532,
   "metadata": {},
   "outputs": [
    {
     "data": {
      "text/plain": [
       "29"
      ]
     },
     "execution_count": 532,
     "metadata": {},
     "output_type": "execute_result"
    }
   ],
   "source": [
    "diff.index.size"
   ]
  },
  {
   "cell_type": "markdown",
   "metadata": {},
   "source": [
    "new results seem to flip when workers vote is a tie or close to"
   ]
  },
  {
   "cell_type": "code",
   "execution_count": 533,
   "metadata": {},
   "outputs": [
    {
     "data": {
      "text/html": [
       "<div>\n",
       "<style scoped>\n",
       "    .dataframe tbody tr th:only-of-type {\n",
       "        vertical-align: middle;\n",
       "    }\n",
       "\n",
       "    .dataframe tbody tr th {\n",
       "        vertical-align: top;\n",
       "    }\n",
       "\n",
       "    .dataframe thead th {\n",
       "        text-align: right;\n",
       "    }\n",
       "</style>\n",
       "<table border=\"1\" class=\"dataframe\">\n",
       "  <thead>\n",
       "    <tr style=\"text-align: right;\">\n",
       "      <th></th>\n",
       "      <th>id</th>\n",
       "      <th>pos</th>\n",
       "      <th>neg</th>\n",
       "      <th>class</th>\n",
       "    </tr>\n",
       "  </thead>\n",
       "  <tbody>\n",
       "    <tr>\n",
       "      <th>0</th>\n",
       "      <td>5133</td>\n",
       "      <td>0.88</td>\n",
       "      <td>0.12</td>\n",
       "      <td>1</td>\n",
       "    </tr>\n",
       "    <tr>\n",
       "      <th>1</th>\n",
       "      <td>4491</td>\n",
       "      <td>0.90</td>\n",
       "      <td>0.10</td>\n",
       "      <td>1</td>\n",
       "    </tr>\n",
       "    <tr>\n",
       "      <th>2</th>\n",
       "      <td>2696</td>\n",
       "      <td>0.88</td>\n",
       "      <td>0.11</td>\n",
       "      <td>1</td>\n",
       "    </tr>\n",
       "    <tr>\n",
       "      <th>3</th>\n",
       "      <td>561</td>\n",
       "      <td>0.91</td>\n",
       "      <td>0.09</td>\n",
       "      <td>1</td>\n",
       "    </tr>\n",
       "    <tr>\n",
       "      <th>4</th>\n",
       "      <td>8155</td>\n",
       "      <td>0.08</td>\n",
       "      <td>0.92</td>\n",
       "      <td>0</td>\n",
       "    </tr>\n",
       "  </tbody>\n",
       "</table>\n",
       "</div>"
      ],
      "text/plain": [
       "     id   pos   neg  class\n",
       "0  5133  0.88  0.12      1\n",
       "1  4491  0.90  0.10      1\n",
       "2  2696  0.88  0.11      1\n",
       "3   561  0.91  0.09      1\n",
       "4  8155  0.08  0.92      0"
      ]
     },
     "execution_count": 533,
     "metadata": {},
     "output_type": "execute_result"
    }
   ],
   "source": [
    "polarity2.head()"
   ]
  },
  {
   "cell_type": "code",
   "execution_count": 534,
   "metadata": {},
   "outputs": [
    {
     "data": {
      "text/html": [
       "<div>\n",
       "<style scoped>\n",
       "    .dataframe tbody tr th:only-of-type {\n",
       "        vertical-align: middle;\n",
       "    }\n",
       "\n",
       "    .dataframe tbody tr th {\n",
       "        vertical-align: top;\n",
       "    }\n",
       "\n",
       "    .dataframe thead th {\n",
       "        text-align: right;\n",
       "    }\n",
       "</style>\n",
       "<table border=\"1\" class=\"dataframe\">\n",
       "  <thead>\n",
       "    <tr style=\"text-align: right;\">\n",
       "      <th></th>\n",
       "      <th>id</th>\n",
       "      <th>TOPIC0</th>\n",
       "      <th>TOPIC1</th>\n",
       "      <th>TOPIC2</th>\n",
       "      <th>TOPIC3</th>\n",
       "      <th>TOPIC4</th>\n",
       "      <th>TOPIC5</th>\n",
       "      <th>TOPIC6</th>\n",
       "      <th>TOPIC7</th>\n",
       "      <th>TOPIC8</th>\n",
       "      <th>...</th>\n",
       "      <th>TOPIC1191</th>\n",
       "      <th>TOPIC1192</th>\n",
       "      <th>TOPIC1193</th>\n",
       "      <th>TOPIC1194</th>\n",
       "      <th>TOPIC1195</th>\n",
       "      <th>TOPIC1196</th>\n",
       "      <th>TOPIC1197</th>\n",
       "      <th>TOPIC1198</th>\n",
       "      <th>TOPIC1199</th>\n",
       "      <th>class</th>\n",
       "    </tr>\n",
       "  </thead>\n",
       "  <tbody>\n",
       "    <tr>\n",
       "      <th>0</th>\n",
       "      <td>4248</td>\n",
       "      <td>0.077237</td>\n",
       "      <td>-0.004509</td>\n",
       "      <td>0.039199</td>\n",
       "      <td>0.094364</td>\n",
       "      <td>0.034297</td>\n",
       "      <td>0.000693</td>\n",
       "      <td>0.010868</td>\n",
       "      <td>0.011812</td>\n",
       "      <td>0.000873</td>\n",
       "      <td>...</td>\n",
       "      <td>-0.003096</td>\n",
       "      <td>-0.012004</td>\n",
       "      <td>-0.035492</td>\n",
       "      <td>-0.047814</td>\n",
       "      <td>-0.010331</td>\n",
       "      <td>0.034381</td>\n",
       "      <td>-0.049876</td>\n",
       "      <td>-0.022462</td>\n",
       "      <td>-0.021730</td>\n",
       "      <td>pos</td>\n",
       "    </tr>\n",
       "    <tr>\n",
       "      <th>1</th>\n",
       "      <td>1511</td>\n",
       "      <td>0.003763</td>\n",
       "      <td>0.000654</td>\n",
       "      <td>0.003322</td>\n",
       "      <td>0.003972</td>\n",
       "      <td>0.004378</td>\n",
       "      <td>-0.001532</td>\n",
       "      <td>-0.001132</td>\n",
       "      <td>-0.001117</td>\n",
       "      <td>0.002971</td>\n",
       "      <td>...</td>\n",
       "      <td>-0.022894</td>\n",
       "      <td>-0.009897</td>\n",
       "      <td>-0.023079</td>\n",
       "      <td>0.013697</td>\n",
       "      <td>0.044367</td>\n",
       "      <td>-0.005238</td>\n",
       "      <td>0.009037</td>\n",
       "      <td>0.031081</td>\n",
       "      <td>-0.022616</td>\n",
       "      <td>pos</td>\n",
       "    </tr>\n",
       "    <tr>\n",
       "      <th>2</th>\n",
       "      <td>4541</td>\n",
       "      <td>0.594009</td>\n",
       "      <td>0.133634</td>\n",
       "      <td>1.183057</td>\n",
       "      <td>0.734439</td>\n",
       "      <td>1.108055</td>\n",
       "      <td>0.568344</td>\n",
       "      <td>0.449185</td>\n",
       "      <td>0.966594</td>\n",
       "      <td>-0.727166</td>\n",
       "      <td>...</td>\n",
       "      <td>0.001425</td>\n",
       "      <td>-0.104534</td>\n",
       "      <td>0.051668</td>\n",
       "      <td>-0.075479</td>\n",
       "      <td>-0.034714</td>\n",
       "      <td>-0.022384</td>\n",
       "      <td>-0.028882</td>\n",
       "      <td>-0.015848</td>\n",
       "      <td>0.042537</td>\n",
       "      <td>pos</td>\n",
       "    </tr>\n",
       "    <tr>\n",
       "      <th>3</th>\n",
       "      <td>10037</td>\n",
       "      <td>0.053498</td>\n",
       "      <td>0.010492</td>\n",
       "      <td>0.025447</td>\n",
       "      <td>0.072469</td>\n",
       "      <td>-0.058827</td>\n",
       "      <td>0.001985</td>\n",
       "      <td>0.057568</td>\n",
       "      <td>-0.035646</td>\n",
       "      <td>0.017089</td>\n",
       "      <td>...</td>\n",
       "      <td>0.028910</td>\n",
       "      <td>-0.010297</td>\n",
       "      <td>-0.031777</td>\n",
       "      <td>0.019292</td>\n",
       "      <td>0.003302</td>\n",
       "      <td>-0.022367</td>\n",
       "      <td>-0.033018</td>\n",
       "      <td>-0.007436</td>\n",
       "      <td>-0.068394</td>\n",
       "      <td>neg</td>\n",
       "    </tr>\n",
       "    <tr>\n",
       "      <th>4</th>\n",
       "      <td>2371</td>\n",
       "      <td>0.027159</td>\n",
       "      <td>-0.002618</td>\n",
       "      <td>0.009418</td>\n",
       "      <td>0.041337</td>\n",
       "      <td>-0.007130</td>\n",
       "      <td>0.021808</td>\n",
       "      <td>-0.006475</td>\n",
       "      <td>-0.006858</td>\n",
       "      <td>-0.009456</td>\n",
       "      <td>...</td>\n",
       "      <td>-0.015788</td>\n",
       "      <td>-0.007888</td>\n",
       "      <td>0.031064</td>\n",
       "      <td>-0.005736</td>\n",
       "      <td>0.008113</td>\n",
       "      <td>0.037296</td>\n",
       "      <td>0.043695</td>\n",
       "      <td>0.063913</td>\n",
       "      <td>-0.018704</td>\n",
       "      <td>pos</td>\n",
       "    </tr>\n",
       "  </tbody>\n",
       "</table>\n",
       "<p>5 rows × 1202 columns</p>\n",
       "</div>"
      ],
      "text/plain": [
       "      id    TOPIC0    TOPIC1    TOPIC2    TOPIC3    TOPIC4    TOPIC5  \\\n",
       "0   4248  0.077237 -0.004509  0.039199  0.094364  0.034297  0.000693   \n",
       "1   1511  0.003763  0.000654  0.003322  0.003972  0.004378 -0.001532   \n",
       "2   4541  0.594009  0.133634  1.183057  0.734439  1.108055  0.568344   \n",
       "3  10037  0.053498  0.010492  0.025447  0.072469 -0.058827  0.001985   \n",
       "4   2371  0.027159 -0.002618  0.009418  0.041337 -0.007130  0.021808   \n",
       "\n",
       "     TOPIC6    TOPIC7    TOPIC8  ...    TOPIC1191  TOPIC1192  TOPIC1193  \\\n",
       "0  0.010868  0.011812  0.000873  ...    -0.003096  -0.012004  -0.035492   \n",
       "1 -0.001132 -0.001117  0.002971  ...    -0.022894  -0.009897  -0.023079   \n",
       "2  0.449185  0.966594 -0.727166  ...     0.001425  -0.104534   0.051668   \n",
       "3  0.057568 -0.035646  0.017089  ...     0.028910  -0.010297  -0.031777   \n",
       "4 -0.006475 -0.006858 -0.009456  ...    -0.015788  -0.007888   0.031064   \n",
       "\n",
       "   TOPIC1194  TOPIC1195  TOPIC1196  TOPIC1197  TOPIC1198  TOPIC1199  class  \n",
       "0  -0.047814  -0.010331   0.034381  -0.049876  -0.022462  -0.021730    pos  \n",
       "1   0.013697   0.044367  -0.005238   0.009037   0.031081  -0.022616    pos  \n",
       "2  -0.075479  -0.034714  -0.022384  -0.028882  -0.015848   0.042537    pos  \n",
       "3   0.019292   0.003302  -0.022367  -0.033018  -0.007436  -0.068394    neg  \n",
       "4  -0.005736   0.008113   0.037296   0.043695   0.063913  -0.018704    pos  \n",
       "\n",
       "[5 rows x 1202 columns]"
      ]
     },
     "execution_count": 534,
     "metadata": {},
     "output_type": "execute_result"
    }
   ],
   "source": [
    "sample = pd.read_csv('assignment2_data/gold_sample.csv')\n",
    "sample.head()"
   ]
  },
  {
   "cell_type": "code",
   "execution_count": 570,
   "metadata": {
    "scrolled": true
   },
   "outputs": [
    {
     "data": {
      "text/html": [
       "<div>\n",
       "<style scoped>\n",
       "    .dataframe tbody tr th:only-of-type {\n",
       "        vertical-align: middle;\n",
       "    }\n",
       "\n",
       "    .dataframe tbody tr th {\n",
       "        vertical-align: top;\n",
       "    }\n",
       "\n",
       "    .dataframe thead th {\n",
       "        text-align: right;\n",
       "    }\n",
       "</style>\n",
       "<table border=\"1\" class=\"dataframe\">\n",
       "  <thead>\n",
       "    <tr style=\"text-align: right;\">\n",
       "      <th></th>\n",
       "      <th>id</th>\n",
       "      <th>TOPIC0</th>\n",
       "      <th>TOPIC1</th>\n",
       "      <th>TOPIC2</th>\n",
       "      <th>TOPIC3</th>\n",
       "      <th>TOPIC4</th>\n",
       "      <th>TOPIC5</th>\n",
       "      <th>TOPIC6</th>\n",
       "      <th>TOPIC7</th>\n",
       "      <th>TOPIC8</th>\n",
       "      <th>...</th>\n",
       "      <th>TOPIC1192</th>\n",
       "      <th>TOPIC1193</th>\n",
       "      <th>TOPIC1194</th>\n",
       "      <th>TOPIC1195</th>\n",
       "      <th>TOPIC1196</th>\n",
       "      <th>TOPIC1197</th>\n",
       "      <th>TOPIC1198</th>\n",
       "      <th>TOPIC1199</th>\n",
       "      <th>class</th>\n",
       "      <th>class_ds</th>\n",
       "    </tr>\n",
       "  </thead>\n",
       "  <tbody>\n",
       "    <tr>\n",
       "      <th>0</th>\n",
       "      <td>4248</td>\n",
       "      <td>0.077237</td>\n",
       "      <td>-0.004509</td>\n",
       "      <td>0.039199</td>\n",
       "      <td>0.094364</td>\n",
       "      <td>0.034297</td>\n",
       "      <td>0.000693</td>\n",
       "      <td>0.010868</td>\n",
       "      <td>0.011812</td>\n",
       "      <td>0.000873</td>\n",
       "      <td>...</td>\n",
       "      <td>-0.012004</td>\n",
       "      <td>-0.035492</td>\n",
       "      <td>-0.047814</td>\n",
       "      <td>-0.010331</td>\n",
       "      <td>0.034381</td>\n",
       "      <td>-0.049876</td>\n",
       "      <td>-0.022462</td>\n",
       "      <td>-0.021730</td>\n",
       "      <td>pos</td>\n",
       "      <td>pos</td>\n",
       "    </tr>\n",
       "    <tr>\n",
       "      <th>1</th>\n",
       "      <td>1511</td>\n",
       "      <td>0.003763</td>\n",
       "      <td>0.000654</td>\n",
       "      <td>0.003322</td>\n",
       "      <td>0.003972</td>\n",
       "      <td>0.004378</td>\n",
       "      <td>-0.001532</td>\n",
       "      <td>-0.001132</td>\n",
       "      <td>-0.001117</td>\n",
       "      <td>0.002971</td>\n",
       "      <td>...</td>\n",
       "      <td>-0.009897</td>\n",
       "      <td>-0.023079</td>\n",
       "      <td>0.013697</td>\n",
       "      <td>0.044367</td>\n",
       "      <td>-0.005238</td>\n",
       "      <td>0.009037</td>\n",
       "      <td>0.031081</td>\n",
       "      <td>-0.022616</td>\n",
       "      <td>pos</td>\n",
       "      <td>pos</td>\n",
       "    </tr>\n",
       "    <tr>\n",
       "      <th>2</th>\n",
       "      <td>4541</td>\n",
       "      <td>0.594009</td>\n",
       "      <td>0.133634</td>\n",
       "      <td>1.183057</td>\n",
       "      <td>0.734439</td>\n",
       "      <td>1.108055</td>\n",
       "      <td>0.568344</td>\n",
       "      <td>0.449185</td>\n",
       "      <td>0.966594</td>\n",
       "      <td>-0.727166</td>\n",
       "      <td>...</td>\n",
       "      <td>-0.104534</td>\n",
       "      <td>0.051668</td>\n",
       "      <td>-0.075479</td>\n",
       "      <td>-0.034714</td>\n",
       "      <td>-0.022384</td>\n",
       "      <td>-0.028882</td>\n",
       "      <td>-0.015848</td>\n",
       "      <td>0.042537</td>\n",
       "      <td>pos</td>\n",
       "      <td>pos</td>\n",
       "    </tr>\n",
       "    <tr>\n",
       "      <th>3</th>\n",
       "      <td>10037</td>\n",
       "      <td>0.053498</td>\n",
       "      <td>0.010492</td>\n",
       "      <td>0.025447</td>\n",
       "      <td>0.072469</td>\n",
       "      <td>-0.058827</td>\n",
       "      <td>0.001985</td>\n",
       "      <td>0.057568</td>\n",
       "      <td>-0.035646</td>\n",
       "      <td>0.017089</td>\n",
       "      <td>...</td>\n",
       "      <td>-0.010297</td>\n",
       "      <td>-0.031777</td>\n",
       "      <td>0.019292</td>\n",
       "      <td>0.003302</td>\n",
       "      <td>-0.022367</td>\n",
       "      <td>-0.033018</td>\n",
       "      <td>-0.007436</td>\n",
       "      <td>-0.068394</td>\n",
       "      <td>neg</td>\n",
       "      <td>neg</td>\n",
       "    </tr>\n",
       "    <tr>\n",
       "      <th>4</th>\n",
       "      <td>2371</td>\n",
       "      <td>0.027159</td>\n",
       "      <td>-0.002618</td>\n",
       "      <td>0.009418</td>\n",
       "      <td>0.041337</td>\n",
       "      <td>-0.007130</td>\n",
       "      <td>0.021808</td>\n",
       "      <td>-0.006475</td>\n",
       "      <td>-0.006858</td>\n",
       "      <td>-0.009456</td>\n",
       "      <td>...</td>\n",
       "      <td>-0.007888</td>\n",
       "      <td>0.031064</td>\n",
       "      <td>-0.005736</td>\n",
       "      <td>0.008113</td>\n",
       "      <td>0.037296</td>\n",
       "      <td>0.043695</td>\n",
       "      <td>0.063913</td>\n",
       "      <td>-0.018704</td>\n",
       "      <td>pos</td>\n",
       "      <td>pos</td>\n",
       "    </tr>\n",
       "  </tbody>\n",
       "</table>\n",
       "<p>5 rows × 1203 columns</p>\n",
       "</div>"
      ],
      "text/plain": [
       "      id    TOPIC0    TOPIC1    TOPIC2    TOPIC3    TOPIC4    TOPIC5  \\\n",
       "0   4248  0.077237 -0.004509  0.039199  0.094364  0.034297  0.000693   \n",
       "1   1511  0.003763  0.000654  0.003322  0.003972  0.004378 -0.001532   \n",
       "2   4541  0.594009  0.133634  1.183057  0.734439  1.108055  0.568344   \n",
       "3  10037  0.053498  0.010492  0.025447  0.072469 -0.058827  0.001985   \n",
       "4   2371  0.027159 -0.002618  0.009418  0.041337 -0.007130  0.021808   \n",
       "\n",
       "     TOPIC6    TOPIC7    TOPIC8    ...     TOPIC1192  TOPIC1193  TOPIC1194  \\\n",
       "0  0.010868  0.011812  0.000873    ...     -0.012004  -0.035492  -0.047814   \n",
       "1 -0.001132 -0.001117  0.002971    ...     -0.009897  -0.023079   0.013697   \n",
       "2  0.449185  0.966594 -0.727166    ...     -0.104534   0.051668  -0.075479   \n",
       "3  0.057568 -0.035646  0.017089    ...     -0.010297  -0.031777   0.019292   \n",
       "4 -0.006475 -0.006858 -0.009456    ...     -0.007888   0.031064  -0.005736   \n",
       "\n",
       "   TOPIC1195  TOPIC1196  TOPIC1197  TOPIC1198  TOPIC1199  class  class_ds  \n",
       "0  -0.010331   0.034381  -0.049876  -0.022462  -0.021730    pos       pos  \n",
       "1   0.044367  -0.005238   0.009037   0.031081  -0.022616    pos       pos  \n",
       "2  -0.034714  -0.022384  -0.028882  -0.015848   0.042537    pos       pos  \n",
       "3   0.003302  -0.022367  -0.033018  -0.007436  -0.068394    neg       neg  \n",
       "4   0.008113   0.037296   0.043695   0.063913  -0.018704    pos       pos  \n",
       "\n",
       "[5 rows x 1203 columns]"
      ]
     },
     "execution_count": 570,
     "metadata": {},
     "output_type": "execute_result"
    }
   ],
   "source": [
    "sample = pd.read_csv('assignment2_data/gold_sample.csv')\n",
    "final_df = pd.DataFrame()\n",
    "polarity2['class_ds']= polarity2['class'].apply(lambda x:\"neg\" if x==0 else \"pos\")\n",
    "final_df = pd.merge(sample,polarity2[[\"id\",\"class_ds\"]],on=\"id\")\n",
    "final_df.head()"
   ]
  },
  {
   "cell_type": "code",
   "execution_count": null,
   "metadata": {},
   "outputs": [],
   "source": [
    "final_df.drop(columns=\"class\",inplace=True)\n"
   ]
  },
  {
   "cell_type": "code",
   "execution_count": 545,
   "metadata": {},
   "outputs": [
    {
     "data": {
      "text/plain": [
       "0.881171702284451"
      ]
     },
     "execution_count": 545,
     "metadata": {},
     "output_type": "execute_result"
    }
   ],
   "source": [
    "#prepare training data \n",
    "#all features expect last column of label\n",
    "X = final_df.iloc[:,:-1]\n",
    "#labels column\n",
    "Y = final_df['class_ds']\n",
    "\n",
    "# init tree classifier\n",
    "clf = tree.DecisionTreeClassifier()\n",
    "#train using sample data\n",
    "clf = clf.fit(X, Y)\n",
    "\n",
    "#read test data\n",
    "test = pd.read_csv('assignment2_data/test.csv')\n",
    "#prepare it like before\n",
    "testX = test.iloc[:,:-1]\n",
    "testY = test['class']\n",
    "\n",
    "#test classifier using test data\n",
    "test_predict = clf.predict(testX)\n",
    "#confusion matrix\n",
    "confusion = confusion_matrix(testY, test_predict)\n",
    "#predictions\n",
    "report = classification_report(testY, test_predict) \n",
    "# Compute accuracy \n",
    "acc = accuracy_score(testY, test_predict)\n",
    "#prediction probability\n",
    "predict_proba = clf.predict_proba(testX)\n",
    "acc"
   ]
  },
  {
   "cell_type": "code",
   "execution_count": 538,
   "metadata": {},
   "outputs": [],
   "source": [
    "#saving to file\n",
    "with open('assignment2_data/train_ds.txt', 'w') as f:\n",
    "    f.write(\"Confusion Matrix\\n\")\n",
    "    f.write(\"%s\\n\" % confusion)\n",
    "    f.write(\"Accuracy\\n\")\n",
    "    f.write(\"%s\\n\" % acc)\n",
    "    f.write(\"classification_report\\n\")\n",
    "    f.write(\"%s\\n\" % reprot)\n",
    "    f.write(\"prediction probabilities\\n\")\n",
    "    for item in predict_proba:\n",
    "        f.write(\"%s\\n\" % item)\n"
   ]
  },
  {
   "cell_type": "code",
   "execution_count": null,
   "metadata": {},
   "outputs": [],
   "source": []
  }
 ],
 "metadata": {
  "kernelspec": {
   "display_name": "Python 3",
   "language": "python",
   "name": "python3"
  },
  "language_info": {
   "codemirror_mode": {
    "name": "ipython",
    "version": 3
   },
   "file_extension": ".py",
   "mimetype": "text/x-python",
   "name": "python",
   "nbconvert_exporter": "python",
   "pygments_lexer": "ipython3",
   "version": "3.7.1"
  }
 },
 "nbformat": 4,
 "nbformat_minor": 2
}
